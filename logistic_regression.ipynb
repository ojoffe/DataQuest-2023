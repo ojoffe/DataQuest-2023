{
  "nbformat": 4,
  "nbformat_minor": 0,
  "metadata": {
    "colab": {
      "provenance": []
    },
    "kernelspec": {
      "name": "python3",
      "display_name": "Python 3"
    },
    "language_info": {
      "name": "python"
    }
  },
  "cells": [
    {
      "cell_type": "code",
      "execution_count": 10,
      "metadata": {
        "id": "qxdsgPLiCHGr"
      },
      "outputs": [],
      "source": [
        "#imports\n",
        "import numpy as np\n",
        "from sklearn.preprocessing import LabelEncoder\n",
        "from sklearn.linear_model import LogisticRegression\n",
        "from sklearn.model_selection import GridSearchCV\n",
        "import pandas as pd\n",
        "from sklearn.linear_model import LogisticRegression\n",
        "from sklearn.metrics import accuracy_score, precision_score, recall_score, f1_score\n",
        "from sklearn.model_selection import train_test_split # Import train_test_split function\n",
        "from sklearn import metrics #Import scikit-learn metrics module for accuracy calculation\n",
        "from imblearn.ensemble import BalancedBaggingClassifier\n",
        "from sklearn.ensemble import RandomForestClassifier\n",
        "from sklearn import svm\n",
        "from sklearn.svm import SVC\n",
        "\n",
        "train = pd.read_csv(\"/content/DataQuest Dataset - train_data.csv\")\n",
        "test = pd.read_csv(r\"/content/DataQuest Dataset - test_data.csv\")"
      ]
    },
    {
      "cell_type": "code",
      "source": [
        "encoder = LabelEncoder()\n",
        "encoded = encoder.fit_transform(train['MealPlan'])\n",
        "encoded1 = encoder.fit_transform(test['MealPlan'])\n",
        "encoded2 = encoder.fit_transform(train['RoomType'])\n",
        "encoded3 = encoder.fit_transform(test['RoomType'])\n",
        "encoded4 = encoder.fit_transform(train['MarketSegment'])\n",
        "encoded5 = encoder.fit_transform(test['MarketSegment'])\n",
        "encoded6 = encoder.fit_transform(train['BookingStatus'])\n",
        "encoded7 = encoder.fit_transform(test['BookingStatus'])\n",
        "\n",
        "# replace the original 'Meal Plan' column with the encoded values\n",
        "train['MealPlan'] = encoded\n",
        "test['MealPlan'] = encoded1\n",
        "train['RoomType'] = encoded2\n",
        "test['RoomType'] = encoded3\n",
        "train['MarketSegment'] = encoded4\n",
        "test['MarketSegment'] = encoded5\n",
        "train['BookingStatus'] = encoded6\n",
        "test['BookingStatus'] = encoded7\n",
        "\n",
        "train.replace([np.inf, -np.inf], np.nan, inplace=True)\n",
        "test.replace([np.inf, -np.inf], np.nan, inplace=True)\n",
        "\n"
      ],
      "metadata": {
        "id": "Lec3LTuVRYg7"
      },
      "execution_count": 12,
      "outputs": []
    },
    {
      "cell_type": "code",
      "source": [
        "from sklearn.compose import ColumnTransformer\n",
        "from sklearn.preprocessing import OneHotEncoder\n",
        "\n",
        "train['CancelRatio'] = train['NumPrevCancellations'] / (train['NumPreviousNonCancelled'] + train['NumPrevCancellations'])\n",
        "train['CancelRatio'] = train['CancelRatio'].replace(np.nan, 0)\n",
        "train['NumGuests'] = train['NumAdults'] + train['NumChildren']\n",
        "train['Nights'] = train['NumWeekendNights'] + train['NumWeekNights']\n",
        "\n",
        "train['Date'] = pd.to_datetime(train['ArrivalYear'].astype(str) + '-' + train['ArrivalMonth'].astype(str).str.zfill(2) + '-' + train['ArrivalDate'].astype(str).str.zfill(2), errors='coerce')\n",
        "cat_features = ['MealPlan', 'Parking', 'RoomType', 'MarketSegment', 'RepeatedGuest']\n",
        "\n",
        "# create the transformer for one-hot encoding\n",
        "# calculate number of days since first date\n",
        "train = train.sort_values(by='Date')\n",
        "first_date = train['Date'].iloc[0]\n",
        "train['DaysSinceFirst'] = (train['Date'] - first_date).dt.days\n",
        "\n",
        "\n",
        "train.replace([np.inf, -np.inf], np.nan, inplace=True)\n",
        "train=train.dropna()\n",
        "x = train.loc[:, (train.columns != 'BookingStatus') & (train.columns != 'BookingID') & (train.columns != 'Date')]\n",
        "y = train.BookingStatus # Target variable"
      ],
      "metadata": {
        "id": "zpty_MWoPd5a"
      },
      "execution_count": 13,
      "outputs": []
    },
    {
      "cell_type": "code",
      "source": [
        "#test train and x,y split\n",
        "x_train, x_test, y_train, y_test = train_test_split(x, y, test_size=0.3, random_state=1)\n",
        "CT = ColumnTransformer(transformers=[('encoder', OneHotEncoder(), cat_features)],remainder='passthrough')\n",
        "x_train = CT.fit_transform(x_train)\n",
        "x_test = CT.transform(x_test)"
      ],
      "metadata": {
        "id": "pVs5RYjTP2LP"
      },
      "execution_count": 14,
      "outputs": []
    },
    {
      "cell_type": "code",
      "source": [
        "lr_model = LogisticRegression(max_iter=1000)\n",
        "\n",
        "# Fit the model to the training data\n",
        "lr_model.fit(x_train, y_train)\n",
        "\n",
        "# Predict the labels of the test set\n",
        "y_pred = lr_model.predict(x_test)\n",
        "\n",
        "# Calculate the accuracy score of the model\n",
        "accuracy = accuracy_score(y_test, y_pred)\n",
        "\n",
        "print(\"Accuracy:\", accuracy)"
      ],
      "metadata": {
        "colab": {
          "base_uri": "https://localhost:8080/"
        },
        "id": "pcl0CPCkP5mR",
        "outputId": "3205eb91-8874-4f27-9c64-42c59cb75f48"
      },
      "execution_count": 15,
      "outputs": [
        {
          "output_type": "stream",
          "name": "stdout",
          "text": [
            "Accuracy: 0.8060250661147522\n"
          ]
        },
        {
          "output_type": "stream",
          "name": "stderr",
          "text": [
            "/usr/local/lib/python3.9/dist-packages/sklearn/linear_model/_logistic.py:458: ConvergenceWarning: lbfgs failed to converge (status=1):\n",
            "STOP: TOTAL NO. of ITERATIONS REACHED LIMIT.\n",
            "\n",
            "Increase the number of iterations (max_iter) or scale the data as shown in:\n",
            "    https://scikit-learn.org/stable/modules/preprocessing.html\n",
            "Please also refer to the documentation for alternative solver options:\n",
            "    https://scikit-learn.org/stable/modules/linear_model.html#logistic-regression\n",
            "  n_iter_i = _check_optimize_result(\n"
          ]
        }
      ]
    },
    {
      "cell_type": "code",
      "source": [
        "accuracy_score(y_test, y_pred)\n",
        "precision_score(y_test, y_pred, average = \"binary\", pos_label=1)\n",
        "recall_score(y_test, y_pred, pos_label=1)\n",
        "f1_score(y_test, y_pred, pos_label=1)\n",
        "\n",
        "print(\"Accuracy:\", metrics.accuracy_score(y_test, y_pred))\n",
        "print(\"Recall:\", metrics.recall_score(y_test, y_pred))\n",
        "print(\"Precision:\", metrics.precision_score(y_test, y_pred))\n",
        "print(\"F1 Score:\", metrics.f1_score(y_test, y_pred))"
      ],
      "metadata": {
        "id": "sOxlQvnfP6RQ",
        "colab": {
          "base_uri": "https://localhost:8080/"
        },
        "outputId": "a4d3305f-30f9-42a3-c9b2-19124ffe31f8"
      },
      "execution_count": 16,
      "outputs": [
        {
          "output_type": "stream",
          "name": "stdout",
          "text": [
            "Accuracy: 0.8060250661147522\n",
            "Recall: 0.8913043478260869\n",
            "Precision: 0.8319220322735261\n",
            "F1 Score: 0.8605900338814974\n"
          ]
        }
      ]
    },
    {
      "cell_type": "code",
      "source": [
        "import matplotlib.pyplot as plt\n",
        "import seaborn as sns\n",
        "import numpy as np\n",
        "\n",
        "# define the labels for the confusion matrix\n",
        "labels = ['True Neg','False Pos','False Neg','True Pos']\n",
        "\n",
        "# create a heatmap of the confusion matrix\n",
        "fig, ax = plt.subplots(figsize=(8, 6))\n",
        "sns.heatmap(cm, annot=True, fmt='d', cmap=\"Blues\", xticklabels=labels, yticklabels=labels, ax=ax, square=True)\n",
        "plt.xlabel(\"Predicted labels\")\n",
        "plt.ylabel(\"True labels\")\n",
        "plt.show()\n",
        "\n"
      ],
      "metadata": {
        "colab": {
          "base_uri": "https://localhost:8080/",
          "height": 388
        },
        "id": "eczdwH6_3stQ",
        "outputId": "25272948-5bfe-41b8-8687-112ea910e3e7"
      },
      "execution_count": 24,
      "outputs": [
        {
          "output_type": "display_data",
          "data": {
            "text/plain": [
              "<Figure size 576x432 with 2 Axes>"
            ],
            "image/png": "[encoded data removed]"
          },
          "metadata": {
            "needs_background": "light"
          }
        }
      ]
    },
    {
      "cell_type": "code",
      "source": [
        "from sklearn.metrics import roc_curve, roc_auc_score\n",
        "\n",
        "# make predictions on test data\n",
        "y_pred_proba = lr_model.predict_proba(x_test)[:,1]\n",
        "\n",
        "# calculate ROC curve and AUC\n",
        "fpr, tpr, thresholds = roc_curve(y_test, y_pred_proba)\n",
        "roc_auc = roc_auc_score(y_test, y_pred_proba)\n",
        "\n",
        "# plot ROC curve\n",
        "plt.plot(fpr, tpr, label='AUC = %0.2f' % roc_auc)\n",
        "plt.plot([0, 1], [0, 1],'r--')\n",
        "plt.xlim([0, 1])\n",
        "plt.ylim([0, 1])\n",
        "plt.xlabel('False Positive Rate')\n",
        "plt.ylabel('True Positive Rate')\n",
        "plt.title('Receiver Operating Characteristic (ROC) Curve')\n",
        "plt.legend(loc=\"lower right\")\n",
        "plt.show()\n"
      ],
      "metadata": {
        "colab": {
          "base_uri": "https://localhost:8080/",
          "height": 295
        },
        "id": "FRMQB9Iy83n6",
        "outputId": "9856627f-6281-43be-d090-f4e152fd64d5"
      },
      "execution_count": 27,
      "outputs": [
        {
          "output_type": "display_data",
          "data": {
            "text/plain": [
              "<Figure size 432x288 with 1 Axes>"
            ],
            "image/png": "[encoded data removed]"
          },
          "metadata": {
            "needs_background": "light"
          }
        }
      ]
    }
  ]
}